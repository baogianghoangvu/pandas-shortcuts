{
 "cells": [
  {
   "cell_type": "markdown",
   "id": "d3a75e97",
   "metadata": {},
   "source": [
    "# Prep"
   ]
  },
  {
   "cell_type": "code",
   "execution_count": 1,
   "id": "5c17804e",
   "metadata": {},
   "outputs": [],
   "source": [
    "from glob import glob\n",
    "from pathlib import Path\n",
    "import pandas_shortcuts"
   ]
  },
  {
   "cell_type": "markdown",
   "id": "41749d9a",
   "metadata": {},
   "source": [
    "# Cook"
   ]
  },
  {
   "cell_type": "code",
   "execution_count": 2,
   "id": "cb85c648",
   "metadata": {},
   "outputs": [],
   "source": [
    "ver = pandas_shortcuts.__version__"
   ]
  },
  {
   "cell_type": "markdown",
   "id": "373a496a",
   "metadata": {},
   "source": [
    "## Classes & Methods"
   ]
  },
  {
   "cell_type": "code",
   "execution_count": 3,
   "id": "0f32615f",
   "metadata": {},
   "outputs": [],
   "source": [
    "# copy-n-paste stuffs (i.e. intro, examples, etc.)\n",
    "class copy_paste:\n",
    "    \n",
    "    def paste(component: str):\n",
    "        file = f\"./_md_copy-paste/{component}.md\"\n",
    "\n",
    "        if component == \"badges\":\n",
    "            return open(file).read().format(ver=ver)\n",
    "        else:\n",
    "            return open(file).read()\n",
    "\n",
    "\n",
    "# collapsible lists\n",
    "class coll_list:\n",
    "\n",
    "    @classmethod\n",
    "    def create_list(cls, path: str):\n",
    "        path = Path(path)\n",
    "        title = cls.adjust_module(Path(path).stem)\n",
    "        if title == \"Methods\":\n",
    "            body = \"\\n\" + cls.read_methods(path)\n",
    "        else:\n",
    "            body = cls.read_shortcuts(path)\n",
    "\n",
    "        return cls.start_list(title) + body + cls.end_list()\n",
    "\n",
    "    @classmethod\n",
    "    def read_shortcuts(cls, path: str):\n",
    "        _list = \"\"\n",
    "        with path.open() as file:\n",
    "            for line in file.readlines():\n",
    "                if \"import\" not in line:\n",
    "                    _list += cls.adjust_loc(line)\n",
    "                else:\n",
    "                    pass\n",
    "\n",
    "        return _list\n",
    "\n",
    "    @classmethod\n",
    "    def read_methods(cls, path: str):\n",
    "        _list = \"\"\n",
    "        with path.open() as file:\n",
    "            for line in file.readlines():\n",
    "                if line.startswith((\"D.\", \"S.\")):\n",
    "                    _list += cls.adjust_loc(line)\n",
    "                else:\n",
    "                    pass\n",
    "\n",
    "        return _list\n",
    "\n",
    "    def section_header():\n",
    "        header = \"## Available Shortcuts and Methods\"\n",
    "\n",
    "        return header\n",
    "\n",
    "    def start_list(title: str):\n",
    "        start_line = f\"\"\"\n",
    "        \\n\\n<details>\\n<summary><b><i><font size=\"3\">\\n{title}\\n</font></i></b></summary>\\n\\n```Python\n",
    "        \"\"\".strip()\n",
    "\n",
    "        return start_line\n",
    "\n",
    "    def end_list():\n",
    "        end_line = \"```\\n</details>\"\n",
    "\n",
    "        return end_line\n",
    "\n",
    "    def adjust_module(module: str):\n",
    "        return module.replace(\"_\", \" \").title().replace(\"Api\", \"API\")\n",
    "\n",
    "    def adjust_loc(line: str):\n",
    "        return line.replace(\"=\", \"#\").replace(\"D.\", \"df.\").replace(\"S.\", 'df[\"col\"].')\n",
    "\n",
    "\n",
    "# `.md` creator\n",
    "class md_creator:\n",
    "    def add(component: str):\n",
    "        global md\n",
    "        blank_line = \"\\n\"\n",
    "        md += component + blank_line * 2\n",
    "\n",
    "        return md"
   ]
  },
  {
   "cell_type": "markdown",
   "id": "b02303e2",
   "metadata": {},
   "source": [
    "## Components"
   ]
  },
  {
   "cell_type": "code",
   "execution_count": 4,
   "id": "24ad0f76",
   "metadata": {},
   "outputs": [],
   "source": [
    "# 'Copy n Paste's\n",
    "title = copy_paste.paste(component=\"title\")\n",
    "desc = copy_paste.paste(component=\"desc\")\n",
    "badges = copy_paste.paste(component=\"badges\")\n",
    "how2use = copy_paste.paste(component=\"how2use\")\n",
    "notes = copy_paste.paste(component=\"notes\")"
   ]
  },
  {
   "cell_type": "code",
   "execution_count": 5,
   "id": "a7e12384",
   "metadata": {},
   "outputs": [],
   "source": [
    "# Collapsible lists\n",
    "list_section_header = coll_list.section_header()\n",
    "top_level_api = coll_list.create_list(path=\"./pandas_shortcuts/top_level_api.py\")\n",
    "dataframe_api = coll_list.create_list(path=\"./pandas_shortcuts/dataframe_api.py\")\n",
    "series_api = coll_list.create_list(path=\"./pandas_shortcuts/series_api.py\")\n",
    "methods = coll_list.create_list(path=\"./pandas_shortcuts/methods/methods.py\")"
   ]
  },
  {
   "cell_type": "markdown",
   "id": "10e7f091",
   "metadata": {},
   "source": [
    "## Assembly"
   ]
  },
  {
   "cell_type": "code",
   "execution_count": 6,
   "id": "23c79e4c",
   "metadata": {},
   "outputs": [],
   "source": [
    "components = [\n",
    "    title,\n",
    "    desc,\n",
    "    badges,\n",
    "    how2use,\n",
    "    notes,\n",
    "    list_section_header,\n",
    "    top_level_api,\n",
    "    dataframe_api,\n",
    "    series_api,\n",
    "    methods,\n",
    "]"
   ]
  },
  {
   "cell_type": "code",
   "execution_count": 7,
   "id": "73b493cc",
   "metadata": {},
   "outputs": [],
   "source": [
    "md = \"\"\n",
    "for component in components:\n",
    "    md_creator.add(component=component)"
   ]
  },
  {
   "cell_type": "markdown",
   "id": "ba10d092",
   "metadata": {},
   "source": [
    "# Overwrite current `README.md` file"
   ]
  },
  {
   "cell_type": "code",
   "execution_count": 8,
   "id": "e065daf2",
   "metadata": {},
   "outputs": [],
   "source": [
    "with open(\"./README.md\", \"w\") as readme:\n",
    "    readme.write(md)\n",
    "    readme.close()"
   ]
  }
 ],
 "metadata": {
  "kernelspec": {
   "display_name": "Python 3 (ipykernel)",
   "language": "python",
   "name": "python3"
  },
  "language_info": {
   "codemirror_mode": {
    "name": "ipython",
    "version": 3
   },
   "file_extension": ".py",
   "mimetype": "text/x-python",
   "name": "python",
   "nbconvert_exporter": "python",
   "pygments_lexer": "ipython3",
   "version": "3.11.4"
  }
 },
 "nbformat": 4,
 "nbformat_minor": 5
}
